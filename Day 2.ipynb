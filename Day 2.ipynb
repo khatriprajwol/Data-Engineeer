{
  "nbformat": 4,
  "nbformat_minor": 0,
  "metadata": {
    "colab": {
      "provenance": [],
      "authorship_tag": "ABX9TyP1FVzBH7POJPKY7YoY173R"
    },
    "kernelspec": {
      "name": "python3",
      "display_name": "Python 3"
    },
    "language_info": {
      "name": "python"
    }
  },
  "cells": [
    {
      "cell_type": "markdown",
      "source": [
        "Tupple"
      ],
      "metadata": {
        "id": "p4-1sTnefLyw"
      }
    },
    {
      "cell_type": "code",
      "execution_count": 1,
      "metadata": {
        "colab": {
          "base_uri": "https://localhost:8080/"
        },
        "id": "qGrF-Wnzd1ns",
        "outputId": "45c4a632-1185-4175-b108-0969d5366cb9"
      },
      "outputs": [
        {
          "output_type": "execute_result",
          "data": {
            "text/plain": [
              "[0, 1, 2, [3, 4], 6, 'six']"
            ]
          },
          "metadata": {},
          "execution_count": 1
        }
      ],
      "source": [
        "x = [0,1,2,[3,4],6,\"six\"]\n",
        "x"
      ]
    },
    {
      "cell_type": "code",
      "source": [
        "x.append('new element')\n",
        "print(x)"
      ],
      "metadata": {
        "colab": {
          "base_uri": "https://localhost:8080/"
        },
        "id": "nCncN6i0epUY",
        "outputId": "b50109db-e477-4f91-bb07-42b2ce2ca610"
      },
      "execution_count": 3,
      "outputs": [
        {
          "output_type": "stream",
          "name": "stdout",
          "text": [
            "[0, 1, 2, [3, 4], 6, 'six', 'new element', 'new element']\n"
          ]
        }
      ]
    },
    {
      "cell_type": "markdown",
      "source": [
        "#Set"
      ],
      "metadata": {
        "id": "uCqwSsfdfKKZ"
      }
    },
    {
      "cell_type": "code",
      "source": [
        "x = {1,2,3,\"str\"}\n",
        "x\n",
        "x.add('new')\n",
        "x\n",
        "x.remove(2)\n",
        "x"
      ],
      "metadata": {
        "colab": {
          "base_uri": "https://localhost:8080/"
        },
        "id": "aPTLO4Sfe8ka",
        "outputId": "94e1a849-5ff6-40e2-91c6-f330edfb5644"
      },
      "execution_count": 7,
      "outputs": [
        {
          "output_type": "execute_result",
          "data": {
            "text/plain": [
              "{1, 3, 'new', 'str'}"
            ]
          },
          "metadata": {},
          "execution_count": 7
        }
      ]
    },
    {
      "cell_type": "markdown",
      "source": [
        "#Dictionary"
      ],
      "metadata": {
        "id": "OItzypLDfOBF"
      }
    },
    {
      "cell_type": "code",
      "source": [
        "dict = {\"Animal\" : \"Monkey\"}\n",
        "dict"
      ],
      "metadata": {
        "colab": {
          "base_uri": "https://localhost:8080/"
        },
        "id": "bxJMZhwWfZ-L",
        "outputId": "8805723d-8b23-42df-800b-41dbafd85fe0"
      },
      "execution_count": 14,
      "outputs": [
        {
          "output_type": "execute_result",
          "data": {
            "text/plain": [
              "{'Animal': 'Monkey'}"
            ]
          },
          "metadata": {},
          "execution_count": 14
        }
      ]
    },
    {
      "cell_type": "markdown",
      "source": [
        "Add anything in dictionary\n"
      ],
      "metadata": {
        "id": "c8i_SVuzgs9E"
      }
    },
    {
      "cell_type": "code",
      "source": [
        "dict['clever']= 0\n",
        "dict"
      ],
      "metadata": {
        "colab": {
          "base_uri": "https://localhost:8080/"
        },
        "id": "Olgcl9t8gvA3",
        "outputId": "b4d260c4-d269-494a-8c69-683c3d6e6fce"
      },
      "execution_count": 16,
      "outputs": [
        {
          "output_type": "execute_result",
          "data": {
            "text/plain": [
              "{'Animal': 'Monkey', 'clever': 0}"
            ]
          },
          "metadata": {},
          "execution_count": 16
        }
      ]
    },
    {
      "cell_type": "markdown",
      "source": [
        "Print dictionary"
      ],
      "metadata": {
        "id": "06n76LO2g9HS"
      }
    },
    {
      "cell_type": "code",
      "source": [
        "print(dict['Animal'])"
      ],
      "metadata": {
        "colab": {
          "base_uri": "https://localhost:8080/"
        },
        "id": "7hKKm4Legvps",
        "outputId": "335d325e-8308-48d7-c1a4-f5aa9fcb7d0f"
      },
      "execution_count": 24,
      "outputs": [
        {
          "output_type": "stream",
          "name": "stdout",
          "text": [
            "Monkey\n"
          ]
        }
      ]
    },
    {
      "cell_type": "code",
      "source": [
        "a = ['a', 'b', 'c', 'd']\n",
        "b = [1,2,3,4]\n",
        "for i in a[]:\n",
        "\n",
        "\n",
        "c = {'a':1, 'b':2, 'c':3, 'd':4}"
      ],
      "metadata": {
        "id": "oxrxXNeAiBys"
      },
      "execution_count": null,
      "outputs": []
    },
    {
      "cell_type": "markdown",
      "source": [
        "#SET\n"
      ],
      "metadata": {
        "id": "eMpr18gujBIm"
      }
    },
    {
      "cell_type": "markdown",
      "source": [
        "union"
      ],
      "metadata": {
        "id": "T3NnPCQYjEAv"
      }
    },
    {
      "cell_type": "code",
      "source": [
        "a = {1,2,3,4}\n",
        "b = {4, 5,6,7,8}\n",
        "result = a.union(b) # or result = a|b is same\n",
        "print (result)"
      ],
      "metadata": {
        "colab": {
          "base_uri": "https://localhost:8080/"
        },
        "id": "qpaPpQe3jGJH",
        "outputId": "f29c432e-0da1-45b4-adfa-595e0e297e00"
      },
      "execution_count": 33,
      "outputs": [
        {
          "output_type": "stream",
          "name": "stdout",
          "text": [
            "{1, 2, 3, 4, 5, 6, 7, 8}\n"
          ]
        }
      ]
    },
    {
      "cell_type": "markdown",
      "source": [
        "using f string"
      ],
      "metadata": {
        "id": "J-ROaGwfkanf"
      }
    },
    {
      "cell_type": "code",
      "source": [
        "print(f\"The union of {a} and {b} is {result}\")"
      ],
      "metadata": {
        "colab": {
          "base_uri": "https://localhost:8080/"
        },
        "id": "smj3SkCQkcxz",
        "outputId": "091f74a9-3b15-4496-b121-a0ec64e1eb20"
      },
      "execution_count": 34,
      "outputs": [
        {
          "output_type": "stream",
          "name": "stdout",
          "text": [
            "The union of {1, 2, 3, 4} and {4, 5, 6, 7, 8} is {1, 2, 3, 4, 5, 6, 7, 8}\n"
          ]
        }
      ]
    },
    {
      "cell_type": "code",
      "source": [
        "print(f\"Union:{a|b}\") # for union\n"
      ],
      "metadata": {
        "colab": {
          "base_uri": "https://localhost:8080/"
        },
        "id": "mgLDERaNkpIZ",
        "outputId": "e1b5659b-1c9f-4ffa-83b0-bda265dc8fb7"
      },
      "execution_count": 35,
      "outputs": [
        {
          "output_type": "stream",
          "name": "stdout",
          "text": [
            "Union:{1, 2, 3, 4, 5, 6, 7, 8}\n"
          ]
        }
      ]
    },
    {
      "cell_type": "code",
      "source": [
        "print(f\"Intersection: {a&b}\") #for intersection"
      ],
      "metadata": {
        "colab": {
          "base_uri": "https://localhost:8080/"
        },
        "id": "fv5QJT9fkzZX",
        "outputId": "d5c3e6a1-e45f-4eae-86e6-5ef9ce26f76d"
      },
      "execution_count": 36,
      "outputs": [
        {
          "output_type": "stream",
          "name": "stdout",
          "text": [
            "Intersection: {4}\n"
          ]
        }
      ]
    }
  ]
}