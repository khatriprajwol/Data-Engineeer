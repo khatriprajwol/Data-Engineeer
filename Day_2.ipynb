{
  "nbformat": 4,
  "nbformat_minor": 0,
  "metadata": {
    "colab": {
      "provenance": [],
      "authorship_tag": "ABX9TyOtz3EPZBZJdGzYsow1L2DG"
    },
    "kernelspec": {
      "name": "python3",
      "display_name": "Python 3"
    },
    "language_info": {
      "name": "python"
    }
  },
  "cells": [
    {
      "cell_type": "markdown",
      "source": [
        "Tupple"
      ],
      "metadata": {
        "id": "p4-1sTnefLyw"
      }
    },
    {
      "cell_type": "code",
      "execution_count": 1,
      "metadata": {
        "colab": {
          "base_uri": "https://localhost:8080/"
        },
        "id": "qGrF-Wnzd1ns",
        "outputId": "45c4a632-1185-4175-b108-0969d5366cb9"
      },
      "outputs": [
        {
          "output_type": "execute_result",
          "data": {
            "text/plain": [
              "[0, 1, 2, [3, 4], 6, 'six']"
            ]
          },
          "metadata": {},
          "execution_count": 1
        }
      ],
      "source": [
        "x = [0,1,2,[3,4],6,\"six\"]\n",
        "x"
      ]
    },
    {
      "cell_type": "code",
      "source": [
        "x.append('new element')\n",
        "print(x)"
      ],
      "metadata": {
        "colab": {
          "base_uri": "https://localhost:8080/"
        },
        "id": "nCncN6i0epUY",
        "outputId": "b50109db-e477-4f91-bb07-42b2ce2ca610"
      },
      "execution_count": 3,
      "outputs": [
        {
          "output_type": "stream",
          "name": "stdout",
          "text": [
            "[0, 1, 2, [3, 4], 6, 'six', 'new element', 'new element']\n"
          ]
        }
      ]
    },
    {
      "cell_type": "markdown",
      "source": [
        "#Set"
      ],
      "metadata": {
        "id": "uCqwSsfdfKKZ"
      }
    },
    {
      "cell_type": "code",
      "source": [
        "x = {1,2,3,\"str\"}\n",
        "x\n",
        "x.add('new')\n",
        "x\n",
        "x.remove(2)\n",
        "x"
      ],
      "metadata": {
        "colab": {
          "base_uri": "https://localhost:8080/"
        },
        "id": "aPTLO4Sfe8ka",
        "outputId": "94e1a849-5ff6-40e2-91c6-f330edfb5644"
      },
      "execution_count": 7,
      "outputs": [
        {
          "output_type": "execute_result",
          "data": {
            "text/plain": [
              "{1, 3, 'new', 'str'}"
            ]
          },
          "metadata": {},
          "execution_count": 7
        }
      ]
    },
    {
      "cell_type": "markdown",
      "source": [
        "#Dictionary"
      ],
      "metadata": {
        "id": "OItzypLDfOBF"
      }
    },
    {
      "cell_type": "code",
      "source": [
        "dict = {\"Animal\" : \"Monkey\"}\n",
        "dict"
      ],
      "metadata": {
        "colab": {
          "base_uri": "https://localhost:8080/"
        },
        "id": "bxJMZhwWfZ-L",
        "outputId": "8805723d-8b23-42df-800b-41dbafd85fe0"
      },
      "execution_count": 14,
      "outputs": [
        {
          "output_type": "execute_result",
          "data": {
            "text/plain": [
              "{'Animal': 'Monkey'}"
            ]
          },
          "metadata": {},
          "execution_count": 14
        }
      ]
    },
    {
      "cell_type": "markdown",
      "source": [
        "Add anything in dictionary\n"
      ],
      "metadata": {
        "id": "c8i_SVuzgs9E"
      }
    },
    {
      "cell_type": "code",
      "source": [
        "dict['clever']= 0\n",
        "dict"
      ],
      "metadata": {
        "colab": {
          "base_uri": "https://localhost:8080/"
        },
        "id": "Olgcl9t8gvA3",
        "outputId": "b4d260c4-d269-494a-8c69-683c3d6e6fce"
      },
      "execution_count": 16,
      "outputs": [
        {
          "output_type": "execute_result",
          "data": {
            "text/plain": [
              "{'Animal': 'Monkey', 'clever': 0}"
            ]
          },
          "metadata": {},
          "execution_count": 16
        }
      ]
    },
    {
      "cell_type": "markdown",
      "source": [
        "Print dictionary"
      ],
      "metadata": {
        "id": "06n76LO2g9HS"
      }
    },
    {
      "cell_type": "code",
      "source": [
        "print(dict['Animal'])"
      ],
      "metadata": {
        "colab": {
          "base_uri": "https://localhost:8080/"
        },
        "id": "7hKKm4Legvps",
        "outputId": "335d325e-8308-48d7-c1a4-f5aa9fcb7d0f"
      },
      "execution_count": 24,
      "outputs": [
        {
          "output_type": "stream",
          "name": "stdout",
          "text": [
            "Monkey\n"
          ]
        }
      ]
    },
    {
      "cell_type": "code",
      "source": [
        "a = ['a', 'b', 'c', 'd']\n",
        "b = [1,2,3,4]\n",
        "for i in a[]:\n",
        "\n",
        "\n",
        "c = {'a':1, 'b':2, 'c':3, 'd':4}"
      ],
      "metadata": {
        "id": "oxrxXNeAiBys"
      },
      "execution_count": null,
      "outputs": []
    },
    {
      "cell_type": "markdown",
      "source": [
        "#SET\n"
      ],
      "metadata": {
        "id": "eMpr18gujBIm"
      }
    },
    {
      "cell_type": "markdown",
      "source": [
        "union"
      ],
      "metadata": {
        "id": "T3NnPCQYjEAv"
      }
    },
    {
      "cell_type": "code",
      "source": [
        "a = {1,2,3,4}\n",
        "b = {4, 5,6,7,8}\n",
        "result = a.union(b) # or result = a|b is same\n",
        "print (result)"
      ],
      "metadata": {
        "colab": {
          "base_uri": "https://localhost:8080/"
        },
        "id": "qpaPpQe3jGJH",
        "outputId": "f29c432e-0da1-45b4-adfa-595e0e297e00"
      },
      "execution_count": 33,
      "outputs": [
        {
          "output_type": "stream",
          "name": "stdout",
          "text": [
            "{1, 2, 3, 4, 5, 6, 7, 8}\n"
          ]
        }
      ]
    },
    {
      "cell_type": "markdown",
      "source": [
        "using f string"
      ],
      "metadata": {
        "id": "J-ROaGwfkanf"
      }
    },
    {
      "cell_type": "code",
      "source": [
        "print(f\"The union of {a} and {b} is {result}\")"
      ],
      "metadata": {
        "colab": {
          "base_uri": "https://localhost:8080/"
        },
        "id": "smj3SkCQkcxz",
        "outputId": "091f74a9-3b15-4496-b121-a0ec64e1eb20"
      },
      "execution_count": 34,
      "outputs": [
        {
          "output_type": "stream",
          "name": "stdout",
          "text": [
            "The union of {1, 2, 3, 4} and {4, 5, 6, 7, 8} is {1, 2, 3, 4, 5, 6, 7, 8}\n"
          ]
        }
      ]
    },
    {
      "cell_type": "code",
      "source": [
        "print(f\"Union:{a|b}\") # for union\n"
      ],
      "metadata": {
        "colab": {
          "base_uri": "https://localhost:8080/"
        },
        "id": "mgLDERaNkpIZ",
        "outputId": "e1b5659b-1c9f-4ffa-83b0-bda265dc8fb7"
      },
      "execution_count": 35,
      "outputs": [
        {
          "output_type": "stream",
          "name": "stdout",
          "text": [
            "Union:{1, 2, 3, 4, 5, 6, 7, 8}\n"
          ]
        }
      ]
    },
    {
      "cell_type": "code",
      "source": [
        "print(f\"Intersection: {a&b}\") #for intersection"
      ],
      "metadata": {
        "colab": {
          "base_uri": "https://localhost:8080/"
        },
        "id": "fv5QJT9fkzZX",
        "outputId": "d5c3e6a1-e45f-4eae-86e6-5ef9ce26f76d"
      },
      "execution_count": 36,
      "outputs": [
        {
          "output_type": "stream",
          "name": "stdout",
          "text": [
            "Intersection: {4}\n"
          ]
        }
      ]
    },
    {
      "cell_type": "code",
      "source": [
        "print(f\"Difference: {a-b}\") #for difference only shows element in a not in b"
      ],
      "metadata": {
        "colab": {
          "base_uri": "https://localhost:8080/"
        },
        "id": "SUqfMGEuloYo",
        "outputId": "68c317a5-a5dc-4dab-beb1-a9f740f12f9a"
      },
      "execution_count": 37,
      "outputs": [
        {
          "output_type": "stream",
          "name": "stdout",
          "text": [
            "Difference: {1, 2, 3}\n"
          ]
        }
      ]
    },
    {
      "cell_type": "code",
      "source": [
        "print(f\"Difference: {b-a}\") #for difference only shows element in b not in a"
      ],
      "metadata": {
        "colab": {
          "base_uri": "https://localhost:8080/"
        },
        "id": "FkDc3JPSl9YJ",
        "outputId": "c5891307-7562-44f5-9825-2c237eb7a1c4"
      },
      "execution_count": 38,
      "outputs": [
        {
          "output_type": "stream",
          "name": "stdout",
          "text": [
            "Difference: {8, 5, 6, 7}\n"
          ]
        }
      ]
    },
    {
      "cell_type": "code",
      "source": [
        "print(f\"Difference: {a^b}\") #for Symmetrical difference. removes common value in both and b (A U B) like in a set"
      ],
      "metadata": {
        "colab": {
          "base_uri": "https://localhost:8080/"
        },
        "id": "jbIU1ISrmQxQ",
        "outputId": "cebb236a-5254-4cae-d52a-8eec05584ac0"
      },
      "execution_count": 40,
      "outputs": [
        {
          "output_type": "stream",
          "name": "stdout",
          "text": [
            "Difference: {1, 2, 3, 5, 6, 7, 8}\n"
          ]
        }
      ]
    },
    {
      "cell_type": "markdown",
      "source": [],
      "metadata": {
        "id": "u9cKMbaGnLvA"
      }
    },
    {
      "cell_type": "code",
      "source": [
        "a = [1,2,3,4,5]\n",
        "\n",
        "#Print Loop\n",
        "for i in a:\n",
        "  print(i)"
      ],
      "metadata": {
        "colab": {
          "base_uri": "https://localhost:8080/"
        },
        "id": "_6x4IJb3nLTw",
        "outputId": "a32963b3-c7d1-473c-ad42-2bf6cb6872b2"
      },
      "execution_count": 42,
      "outputs": [
        {
          "output_type": "stream",
          "name": "stdout",
          "text": [
            "1\n",
            "2\n",
            "3\n",
            "4\n",
            "5\n"
          ]
        }
      ]
    },
    {
      "cell_type": "code",
      "source": [
        "#Print Index\n",
        "for i in a:\n",
        "  print(a)"
      ],
      "metadata": {
        "colab": {
          "base_uri": "https://localhost:8080/"
        },
        "id": "eag4yC64n_WL",
        "outputId": "c2c9141c-800b-487c-ed2f-0fcc683179d4"
      },
      "execution_count": 43,
      "outputs": [
        {
          "output_type": "stream",
          "name": "stdout",
          "text": [
            "[1, 2, 3, 4, 5]\n",
            "[1, 2, 3, 4, 5]\n",
            "[1, 2, 3, 4, 5]\n",
            "[1, 2, 3, 4, 5]\n",
            "[1, 2, 3, 4, 5]\n"
          ]
        }
      ]
    },
    {
      "cell_type": "code",
      "source": [
        "#Loop\n",
        "for i in range(1, 6):\n",
        "  print(i)"
      ],
      "metadata": {
        "colab": {
          "base_uri": "https://localhost:8080/"
        },
        "id": "GgX9EtNNofYY",
        "outputId": "5be6668f-bd26-41e3-c975-5d13cdf91f80"
      },
      "execution_count": 44,
      "outputs": [
        {
          "output_type": "stream",
          "name": "stdout",
          "text": [
            "1\n",
            "2\n",
            "3\n",
            "4\n",
            "5\n"
          ]
        }
      ]
    },
    {
      "cell_type": "code",
      "source": [
        "a = ['One', 'two', 'three', 'four', 'five']\n",
        "for i in a:\n",
        "  if len(i)  > 1:\n",
        "      print(i)"
      ],
      "metadata": {
        "colab": {
          "base_uri": "https://localhost:8080/"
        },
        "id": "WAXHAzWLoxss",
        "outputId": "7439c92e-4d4e-4d40-a6f7-2ed743ea8310"
      },
      "execution_count": 61,
      "outputs": [
        {
          "output_type": "stream",
          "name": "stdout",
          "text": [
            "One\n",
            "two\n",
            "three\n",
            "four\n",
            "five\n"
          ]
        }
      ]
    },
    {
      "cell_type": "code",
      "source": [
        "a=[1,2,3]\n",
        "b=[4,5,6]\n",
        "\n",
        "print(a is b)\n",
        "print(b is a)\n",
        "\n",
        "x=5\n",
        "y= 5 or 6\n",
        "z ='5'\n",
        "print(x is y)\n",
        "print(x is not z)"
      ],
      "metadata": {
        "colab": {
          "base_uri": "https://localhost:8080/"
        },
        "id": "6OYhcRPMp7xi",
        "outputId": "e441747d-482a-433a-dbe0-664cb2abf2e0"
      },
      "execution_count": 70,
      "outputs": [
        {
          "output_type": "stream",
          "name": "stdout",
          "text": [
            "False\n",
            "False\n",
            "True\n",
            "True\n"
          ]
        }
      ]
    },
    {
      "cell_type": "code",
      "source": [
        "a = 12\n",
        "a_binary = bin(12)\n",
        "print(a_binary)\n",
        "\n",
        "b = 9\n",
        "b_binary = bin(9)\n",
        "print(b_binary)\n",
        "#& operator AND\n",
        "c = a&b\n",
        "print(c)\n"
      ],
      "metadata": {
        "colab": {
          "base_uri": "https://localhost:8080/"
        },
        "id": "Sa1aX2yEq6wP",
        "outputId": "0c25cdde-3dda-443e-9d3e-39a0b6979336"
      },
      "execution_count": 81,
      "outputs": [
        {
          "output_type": "stream",
          "name": "stdout",
          "text": [
            "0b1100\n",
            "0b1001\n",
            "8\n"
          ]
        }
      ]
    },
    {
      "cell_type": "markdown",
      "source": [
        "Using truth table to find the above value."
      ],
      "metadata": {
        "id": "Pw0ZHt4JsMJ6"
      }
    },
    {
      "cell_type": "code",
      "source": [
        "#here 12 in binary is 1100 from the above result\n",
        "#here 9 in binary is 1001 from the above result\n",
        "print(\"A(12)\\t B(9)\\tA and B\")\n",
        "print(\"-----------------------\")\n",
        "\n",
        "#Let's define boolean values for 12 ane 9 aka Truth Table\n",
        "\n",
        "a = [True, True, False, False]\n",
        "b = [True, False, False, True]\n",
        "\n",
        "#we use for loop here\n",
        "\n",
        "for A,B in zip(a,b):\n",
        "  result = A and B\n",
        "  print(f\"{A}\\t{B}\\t{result}\")"
      ],
      "metadata": {
        "colab": {
          "base_uri": "https://localhost:8080/"
        },
        "id": "IDeJPNkJsLul",
        "outputId": "8d764f91-7166-4781-e987-9cc7332a2555"
      },
      "execution_count": 92,
      "outputs": [
        {
          "output_type": "stream",
          "name": "stdout",
          "text": [
            "A(12)\t B(9)\tA and B\n",
            "-----------------------\n",
            "True\tTrue\tTrue\n",
            "True\tFalse\tFalse\n",
            "False\tFalse\tFalse\n",
            "False\tTrue\tFalse\n"
          ]
        }
      ]
    }
  ]
}