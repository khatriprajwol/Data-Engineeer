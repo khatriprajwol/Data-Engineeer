{
  "nbformat": 4,
  "nbformat_minor": 0,
  "metadata": {
    "colab": {
      "provenance": [],
      "authorship_tag": "ABX9TyPwbzrb4mJcZJa1Q6KQyAcM"
    },
    "kernelspec": {
      "name": "python3",
      "display_name": "Python 3"
    },
    "language_info": {
      "name": "python"
    }
  },
  "cells": [
    {
      "cell_type": "markdown",
      "source": [
        "This note book covers general introduction to one of the popular programming language which is Python."
      ],
      "metadata": {
        "id": "N-wopCR1W8rQ"
      }
    },
    {
      "cell_type": "code",
      "source": [
        "print(\"Hello\" + \" \" +\"World!\")"
      ],
      "metadata": {
        "id": "I8w_7I1sWZld",
        "colab": {
          "base_uri": "https://localhost:8080/"
        },
        "outputId": "76ddeec2-c5c8-42bc-96be-a500f484471d"
      },
      "execution_count": 13,
      "outputs": [
        {
          "output_type": "stream",
          "name": "stdout",
          "text": [
            "Hello World!\n"
          ]
        }
      ]
    },
    {
      "cell_type": "code",
      "source": [
        "data_list = [1, 2.5, \"Python\", [3,4], 5]\n",
        "data_list"
      ],
      "metadata": {
        "colab": {
          "base_uri": "https://localhost:8080/"
        },
        "id": "Y4_RqKSoaeMT",
        "outputId": "123ed445-e3df-4506-dd3e-e1803332e147"
      },
      "execution_count": 15,
      "outputs": [
        {
          "output_type": "execute_result",
          "data": {
            "text/plain": [
              "[1, 2.5, 'Python', [3, 4], 5]"
            ]
          },
          "metadata": {},
          "execution_count": 15
        }
      ]
    },
    {
      "cell_type": "code",
      "source": [
        "for i in data_list:\n",
        " print (type(i))"
      ],
      "metadata": {
        "colab": {
          "base_uri": "https://localhost:8080/"
        },
        "id": "A5sEOUW0bS5G",
        "outputId": "139bfe73-a021-4a2b-c31c-2a7ff33f19ab"
      },
      "execution_count": 24,
      "outputs": [
        {
          "output_type": "stream",
          "name": "stdout",
          "text": [
            "<class 'int'>\n",
            "<class 'float'>\n",
            "<class 'str'>\n",
            "<class 'list'>\n",
            "<class 'int'>\n"
          ]
        }
      ]
    },
    {
      "cell_type": "code",
      "source": [
        "data_list = [1, 2.5, \"Python\", [3,4], 5]\n",
        "print(data_list[3]) #prints 3rd index\n",
        "\n",
        "a = data_list[3] # assigning new variable to append it in the index 3\n",
        "a.append(6)\n",
        "print(a) # let's see how it goes\n",
        "\n",
        "print(data_list) #Magic now it is appended in our list.\n"
      ],
      "metadata": {
        "colab": {
          "base_uri": "https://localhost:8080/"
        },
        "id": "8jq3bziqclG4",
        "outputId": "c632d17b-1fc5-4213-9a6d-ac3b37119f3c"
      },
      "execution_count": 23,
      "outputs": [
        {
          "output_type": "stream",
          "name": "stdout",
          "text": [
            "[3, 4]\n",
            "[3, 4, 6]\n",
            "[1, 2.5, 'Python', [3, 4, 6], 5]\n"
          ]
        }
      ]
    },
    {
      "cell_type": "code",
      "source": [
        "b=3.0\n",
        "print(type(b))\n",
        "c=int(b) #change it to integer from float\n",
        "c\n",
        "print(type(c))"
      ],
      "metadata": {
        "colab": {
          "base_uri": "https://localhost:8080/"
        },
        "id": "ygsvNXPRg6vR",
        "outputId": "e1935a13-f894-4b83-dc0e-57d855e86a43"
      },
      "execution_count": 34,
      "outputs": [
        {
          "output_type": "stream",
          "name": "stdout",
          "text": [
            "<class 'float'>\n",
            "<class 'int'>\n"
          ]
        }
      ]
    },
    {
      "cell_type": "code",
      "source": [
        "a = \"python\"\n",
        "b = {'1': \"python\"}\n",
        "c= b['1']\n",
        "c\n",
        "print(type(c))"
      ],
      "metadata": {
        "colab": {
          "base_uri": "https://localhost:8080/"
        },
        "id": "Mc4gRGyehTsI",
        "outputId": "f6862a82-ea3d-4b43-e62b-d793231ec2b0"
      },
      "execution_count": 42,
      "outputs": [
        {
          "output_type": "stream",
          "name": "stdout",
          "text": [
            "<class 'str'>\n"
          ]
        }
      ]
    }
  ]
}